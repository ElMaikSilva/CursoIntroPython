{
 "cells": [
  {
   "cell_type": "code",
   "execution_count": 4,
   "metadata": {},
   "outputs": [
    {
     "name": "stdout",
     "output_type": "stream",
     "text": [
      "¡Alerta! Se detecto un asteroide con una velocidad elevada!\n"
     ]
    }
   ],
   "source": [
    "# Añadir el código necesario para crear una variable que guarde la velocidad del asteroide.\n",
    "# Escribe una expresión de prueba para calcular si necesita una advertencia.\n",
    "# Agregue las instrucciones que se ejecutarán si la expresión de prueba es true o false.\n",
    "\n",
    "asteroide = 49\n",
    "if asteroide >= 25:\n",
    "    print('¡Alerta! Se detecto un asteroide con una velocidad elevada!')\n",
    "else:\n",
    "    print('¡Se detecto un asteroide, pero respeta los limites de velocidad!')"
   ]
  },
  {
   "cell_type": "code",
   "execution_count": 3,
   "metadata": {},
   "outputs": [
    {
     "name": "stdout",
     "output_type": "stream",
     "text": [
      "Chanse otra noche \n"
     ]
    }
   ],
   "source": [
    "# Agrega el código para crear una variable para un asteroide que viaja a 19 km/s\n",
    "# Escribe varias expresiones de prueba para determinar si puedes ver el rayo de luz desde la tierra\n",
    "# Agrega las instrucciones que se ejecutarán si las expresiones de prueba son True o False\n",
    "\n",
    "asteroide = 19\n",
    "mensaje1 = \"Se puede observar una luz en el cielo\"\n",
    "if asteroide >20:\n",
    "    print(mensaje1)\n",
    "elif asteroide == 20:\n",
    "    print(mensaje1)\n",
    "else:\n",
    "    print(\"Chanse otra noche\")"
   ]
  },
  {
   "cell_type": "code",
   "execution_count": 5,
   "metadata": {},
   "outputs": [
    {
     "name": "stdout",
     "output_type": "stream",
     "text": [
      "Alerta! Se aproxima un asteroide mas grande de lo común\n"
     ]
    }
   ],
   "source": [
    "# Agrega el código para crear nuevas variables para la velocidad y el tamaño del asteroide\n",
    "# Para probar el código, prueba con varias velocidades y tamaños\n",
    "# Escribe varias expresiones de prueba o combinaciones de expresiones de prueba para determinar qué mensaje se debe enviar a Tierra.\n",
    "\n",
    "vel = 45\n",
    "masa = 1004\n",
    "if vel > 25 and masa >500:\n",
    "    print(\"Alerta! Se aproxima un asteroide mas grande de lo común\")\n",
    "elif vel <=25 and masa >=500:\n",
    "    print(\"Viene un asteroide lento pero muy grande!\")\n",
    "elif vel >=25 and masa <=500:\n",
    "    print (\"Viene un asteroide rapido pero pequeño\")\n",
    "else:\n",
    "    print(\"No hay peligro por el momento...\")\n",
    "\n"
   ]
  }
 ],
 "metadata": {
  "interpreter": {
   "hash": "4041363a742508a749ce04165dd8dd8bb9414d106c693760c679c4cc40292a30"
  },
  "kernelspec": {
   "display_name": "Python 3.10.2 64-bit",
   "language": "python",
   "name": "python3"
  },
  "language_info": {
   "codemirror_mode": {
    "name": "ipython",
    "version": 3
   },
   "file_extension": ".py",
   "mimetype": "text/x-python",
   "name": "python",
   "nbconvert_exporter": "python",
   "pygments_lexer": "ipython3",
   "version": "3.10.2"
  },
  "orig_nbformat": 4
 },
 "nbformat": 4,
 "nbformat_minor": 2
}
