{
 "cells": [
  {
   "cell_type": "code",
   "execution_count": 5,
   "metadata": {},
   "outputs": [
    {
     "name": "stdout",
     "output_type": "stream",
     "text": [
      "son 8 planetas\n",
      "Pluton es el ultimo\n"
     ]
    }
   ],
   "source": [
    "planetas = ['Mercurio', 'Venus', 'Tierra', 'Marte', 'Jupiter', 'Saturno', 'Uranio', 'Neptuno']\n",
    "print('son', len(planetas), 'planetas')\n",
    "\n",
    "planetas.append('Pluton')\n",
    "print(planetas[-1], 'es el ultimo')"
   ]
  },
  {
   "cell_type": "code",
   "execution_count": 13,
   "metadata": {},
   "outputs": [
    {
     "name": "stdout",
     "output_type": "stream",
     "text": [
      "Planetas mas cercanos al sol despues de Saturno\n",
      "['Mercurio', 'Venus', 'Tierra', 'Marte', 'Jupiter']\n",
      "Planetas lejanos al sol despues de Saturno\n",
      "['Uranio', 'Neptuno']\n"
     ]
    }
   ],
   "source": [
    "planetas = ['Mercurio', 'Venus', 'Tierra', 'Marte', 'Jupiter', 'Saturno', 'Uranio', 'Neptuno']\n",
    "select_planeta = input('Escriba el nombre de un planeta del sistema solar (primera letra mayuscula)')\n",
    "planetaseleccionado = planetas.index(select_planeta)\n",
    "print('Planetas mas cercanos al sol despues de ' + select_planeta)\n",
    "print(planetas[0:planetaseleccionado])\n",
    "\n",
    "print('Planetas lejanos al sol despues de ' + select_planeta)\n",
    "print(planetas[planetaseleccionado + 1:])"
   ]
  }
 ],
 "metadata": {
  "interpreter": {
   "hash": "4041363a742508a749ce04165dd8dd8bb9414d106c693760c679c4cc40292a30"
  },
  "kernelspec": {
   "display_name": "Python 3.10.2 64-bit",
   "language": "python",
   "name": "python3"
  },
  "language_info": {
   "codemirror_mode": {
    "name": "ipython",
    "version": 3
   },
   "file_extension": ".py",
   "mimetype": "text/x-python",
   "name": "python",
   "nbconvert_exporter": "python",
   "pygments_lexer": "ipython3",
   "version": "3.10.2"
  },
  "orig_nbformat": 4
 },
 "nbformat": 4,
 "nbformat_minor": 2
}
