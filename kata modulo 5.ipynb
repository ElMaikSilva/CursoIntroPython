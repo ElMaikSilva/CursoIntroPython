{
 "cells": [
  {
   "cell_type": "code",
   "execution_count": 2,
   "metadata": {},
   "outputs": [
    {
     "name": "stdout",
     "output_type": "stream",
     "text": [
      "628949330\n",
      "390577534\n"
     ]
    }
   ],
   "source": [
    "planeta1 = 149597870\n",
    "planeta2 = 778547200\n",
    "\n",
    "from math import ceil\n",
    "\n",
    "if planeta1 > planeta2:\n",
    "    distancia = planeta1 - planeta2\n",
    "    print(distancia)\n",
    "    print(ceil(distancia*0.621))\n",
    "else:\n",
    "    distancia = planeta2-planeta1\n",
    "    print(distancia)\n",
    "    print(ceil(distancia*0.621))\n"
   ]
  },
  {
   "cell_type": "code",
   "execution_count": 5,
   "metadata": {},
   "outputs": [
    {
     "name": "stdout",
     "output_type": "stream",
     "text": [
      "5\n",
      "4\n"
     ]
    }
   ],
   "source": [
    "first = input('Introduzca la distancia del sol para el primer planeta en KM')\n",
    "second = input('Introduzca la distancia desde el sol para el segundo planeta en KM')\n",
    "\n",
    "first = int(first)\n",
    "second = int(second)\n",
    "\n",
    "if first > second:\n",
    "    distancia = first - second\n",
    "    print(distancia)\n",
    "    print(ceil(distancia*0.621))\n",
    "else:\n",
    "    distancia = second-first\n",
    "    print(distancia)\n",
    "    print(ceil(distancia*0.621))"
   ]
  }
 ],
 "metadata": {
  "interpreter": {
   "hash": "4041363a742508a749ce04165dd8dd8bb9414d106c693760c679c4cc40292a30"
  },
  "kernelspec": {
   "display_name": "Python 3.10.2 64-bit",
   "language": "python",
   "name": "python3"
  },
  "language_info": {
   "codemirror_mode": {
    "name": "ipython",
    "version": 3
   },
   "file_extension": ".py",
   "mimetype": "text/x-python",
   "name": "python",
   "nbconvert_exporter": "python",
   "pygments_lexer": "ipython3",
   "version": "3.10.2"
  },
  "orig_nbformat": 4
 },
 "nbformat": 4,
 "nbformat_minor": 2
}
